{
 "cells": [
  {
   "cell_type": "markdown",
   "id": "a5214353-b5bf-4d89-83ed-1f197b019e87",
   "metadata": {},
   "source": [
    "# Data Science Tools and Ecosystem\n",
    "In this notebook, Data Science Tools and Ecosystem are summarized.\n",
    "\n",
    "Some of the popular languages that Data Scientists use are:\n",
    "1. Python\n",
    "2. R\n",
    "3. SQL\n",
    "\n",
    "Some of the commonly used libraries used by Data Scientists include:\n",
    "1. Scientific computing libraries (Pandas, NumPy)\n",
    "2. Visualization (Matplotlib, Seaborn)\n",
    "3. Machine learning and deep learning (Scikit-learn, Keras)\n",
    "4. Deep learning libraries (Tensorflow, PyTorch)\n",
    "\n",
    "|Type |Open Source Tools|\n",
    "|-----|-----------------|\n",
    "|Data Management Tool|MySQL|\n",
    "|Data integration and transformation Tool|Apache AirFlow|\n",
    "|Model deployment tool|Apache PredictionIO|\n",
    "\n",
    "### Below are a few examples of evaluating arithmetic expressions in Python\n",
    "3+4=7"
   ]
  },
  {
   "cell_type": "code",
   "execution_count": 1,
   "id": "2c6edec5-b248-4099-978a-6e8f49c37386",
   "metadata": {},
   "outputs": [
    {
     "data": {
      "text/plain": [
       "17"
      ]
     },
     "execution_count": 1,
     "metadata": {},
     "output_type": "execute_result"
    }
   ],
   "source": [
    "# This a simple arithmetic expression to mutiply then add integers\n",
    "(3*4)+5"
   ]
  },
  {
   "cell_type": "code",
   "execution_count": 2,
   "id": "2d6dd835-57d1-4ee9-a085-eb17e24f9407",
   "metadata": {},
   "outputs": [
    {
     "data": {
      "text/plain": [
       "3.3333333333333335"
      ]
     },
     "execution_count": 2,
     "metadata": {},
     "output_type": "execute_result"
    }
   ],
   "source": [
    "# This will convert 200 minutes to hours by diving by 60\n",
    "200/60"
   ]
  },
  {
   "cell_type": "markdown",
   "id": "b2d8c1bb-022e-488a-9da5-211dbf510b4f",
   "metadata": {},
   "source": [
    "**Objectives:**\n",
    "* List popular languages for Data Science\n",
    "* List commonly used libraries for Data Science\n",
    "* List open source tools for Data Science"
   ]
  },
  {
   "cell_type": "markdown",
   "id": "c741d8c1-bdf2-47ad-bb38-ffa3cfc3f5d5",
   "metadata": {},
   "source": [
    "## Author\n",
    "Joan Nugroho"
   ]
  },
  {
   "cell_type": "code",
   "execution_count": null,
   "id": "99a24a8e-2850-44d2-a79b-9d8415bf3af3",
   "metadata": {},
   "outputs": [],
   "source": []
  }
 ],
 "metadata": {
  "kernelspec": {
   "display_name": "Python",
   "language": "python",
   "name": "conda-env-python-py"
  },
  "language_info": {
   "codemirror_mode": {
    "name": "ipython",
    "version": 3
   },
   "file_extension": ".py",
   "mimetype": "text/x-python",
   "name": "python",
   "nbconvert_exporter": "python",
   "pygments_lexer": "ipython3",
   "version": "3.7.12"
  }
 },
 "nbformat": 4,
 "nbformat_minor": 5
}
